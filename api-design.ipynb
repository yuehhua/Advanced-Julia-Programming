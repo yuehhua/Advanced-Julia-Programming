{
 "cells": [
  {
   "cell_type": "markdown",
   "metadata": {},
   "source": [
    "# API 設計"
   ]
  },
  {
   "cell_type": "markdown",
   "metadata": {},
   "source": [
    "## Inplace 及 new object"
   ]
  },
  {
   "cell_type": "markdown",
   "metadata": {},
   "source": [
    "一般而言，Julia 中設計 API 會有兩種版本，一種是直接修改原參數的版本，另一種是產生一個新的物件的版本。例如我們要做一個 `square` 來將輸入的矩陣內的元素全部平方，這時候會有 `square!` 直接修改矩陣內的元素，以及 `square` 來提供不修改原矩陣的版本。"
   ]
  },
  {
   "cell_type": "code",
   "execution_count": 1,
   "metadata": {},
   "outputs": [
    {
     "data": {
      "text/plain": [
       "_square! (generic function with 1 method)"
      ]
     },
     "execution_count": 1,
     "metadata": {},
     "output_type": "execute_result"
    }
   ],
   "source": [
    "function _square!(res::Matrix{T}, mat::Matrix{T}) where T\n",
    "    for j = 1:size(mat,2)\n",
    "        for i = 1:size(mat,1)\n",
    "            res[i,j] = mat[i,j]^T(2)\n",
    "        end\n",
    "    end\n",
    "end"
   ]
  },
  {
   "cell_type": "markdown",
   "metadata": {},
   "source": [
    "我們會有一個 `_square!` 會將 `mat` 當中的元素取平方，然後寫入 `res`。這是在內部運作的函式，使用者並不會直接使用到這個函式，所以我們會給它的名字前面加一個 `_`，這是 Julia 中的慣例。這邊可以注意到的一個實作細節是，在平方的時候我們使用了 `T`，對 `2` 做轉型，`T(2)`。值得一提的是，型別在 Julia 中是一個物件，所以它也可以像物件一樣被操作。這麼做主要是為了型別穩定性，如此可以增加程式的效率，讓計算出來的值符合要寫入的矩陣元素型別。我們先將這樣的功能實作出來，將讀取資料及寫入資料的矩陣分開。我們接下來才是真正撰寫提供給使用者的介面。"
   ]
  },
  {
   "cell_type": "code",
   "execution_count": 2,
   "metadata": {},
   "outputs": [
    {
     "data": {
      "text/plain": [
       "square! (generic function with 1 method)"
      ]
     },
     "execution_count": 2,
     "metadata": {},
     "output_type": "execute_result"
    }
   ],
   "source": [
    "function square!(mat::Matrix{T}) where T\n",
    "    _square!(mat, mat)\n",
    "    mat\n",
    "end"
   ]
  },
  {
   "cell_type": "markdown",
   "metadata": {},
   "source": [
    "這邊我們提供 `square!(mat::Matrix{T})`，使用者輸入一個矩陣，並且會回傳處理完成的矩陣。實作上非常簡單易懂，讀取及寫入的矩陣為同一個矩陣，並且回傳 `mat` 物件。"
   ]
  },
  {
   "cell_type": "code",
   "execution_count": 3,
   "metadata": {},
   "outputs": [
    {
     "data": {
      "text/plain": [
       "square (generic function with 1 method)"
      ]
     },
     "execution_count": 3,
     "metadata": {},
     "output_type": "execute_result"
    }
   ],
   "source": [
    "function square(mat::Matrix{T}) where T\n",
    "    res = similar(mat)\n",
    "    _square!(res, mat)\n",
    "    res\n",
    "end"
   ]
  },
  {
   "cell_type": "markdown",
   "metadata": {},
   "source": [
    "這邊我們提供 `square(mat::Matrix{T})`，使用者輸入一個矩陣，一個結果矩陣 `res` 會被建立，將結果寫入 `res`，並且回傳。這邊利用 `similar` 創造結果矩陣，當中包含未初始化的值，矩陣的元素型別及大小都與 `mat` 一致。"
   ]
  },
  {
   "cell_type": "code",
   "execution_count": 4,
   "metadata": {},
   "outputs": [
    {
     "data": {
      "text/plain": [
       "3×4 Array{Int64,2}:\n",
       " 3  1  2  2\n",
       " 5  5  1  4\n",
       " 5  5  5  2"
      ]
     },
     "execution_count": 4,
     "metadata": {},
     "output_type": "execute_result"
    }
   ],
   "source": [
    "a = rand(1:5, 3, 4)"
   ]
  },
  {
   "cell_type": "code",
   "execution_count": 5,
   "metadata": {},
   "outputs": [
    {
     "data": {
      "text/plain": [
       "3×4 Array{Int64,2}:\n",
       "  9   1   4   4\n",
       " 25  25   1  16\n",
       " 25  25  25   4"
      ]
     },
     "execution_count": 5,
     "metadata": {},
     "output_type": "execute_result"
    }
   ],
   "source": [
    "square(a)"
   ]
  },
  {
   "cell_type": "code",
   "execution_count": 6,
   "metadata": {},
   "outputs": [
    {
     "data": {
      "text/plain": [
       "3×4 Array{Int64,2}:\n",
       " 3  1  2  2\n",
       " 5  5  1  4\n",
       " 5  5  5  2"
      ]
     },
     "execution_count": 6,
     "metadata": {},
     "output_type": "execute_result"
    }
   ],
   "source": [
    "a"
   ]
  },
  {
   "cell_type": "code",
   "execution_count": 7,
   "metadata": {},
   "outputs": [
    {
     "data": {
      "text/plain": [
       "3×4 Array{Int64,2}:\n",
       "  9   1   4   4\n",
       " 25  25   1  16\n",
       " 25  25  25   4"
      ]
     },
     "execution_count": 7,
     "metadata": {},
     "output_type": "execute_result"
    }
   ],
   "source": [
    "square!(a)"
   ]
  },
  {
   "cell_type": "code",
   "execution_count": 8,
   "metadata": {},
   "outputs": [
    {
     "data": {
      "text/plain": [
       "3×4 Array{Int64,2}:\n",
       "  9   1   4   4\n",
       " 25  25   1  16\n",
       " 25  25  25   4"
      ]
     },
     "execution_count": 8,
     "metadata": {},
     "output_type": "execute_result"
    }
   ],
   "source": [
    "a"
   ]
  },
  {
   "cell_type": "markdown",
   "metadata": {},
   "source": [
    "## 直接回傳第一參數"
   ]
  },
  {
   "cell_type": "markdown",
   "metadata": {},
   "source": [
    "我們可以在內部的實作中，直接回傳第一個參數，以方便後續的使用者介面實作。"
   ]
  },
  {
   "cell_type": "code",
   "execution_count": 9,
   "metadata": {},
   "outputs": [
    {
     "data": {
      "text/plain": [
       "_square! (generic function with 1 method)"
      ]
     },
     "execution_count": 9,
     "metadata": {},
     "output_type": "execute_result"
    }
   ],
   "source": [
    "function _square!(res::Matrix{T}, mat::Matrix{T}) where T\n",
    "    for j = 1:size(mat,2)\n",
    "        for i = 1:size(mat,1)\n",
    "            res[i,j] = mat[i,j]^T(2)\n",
    "        end\n",
    "    end\n",
    "    res\n",
    "end"
   ]
  },
  {
   "cell_type": "code",
   "execution_count": 10,
   "metadata": {},
   "outputs": [
    {
     "data": {
      "text/plain": [
       "square! (generic function with 1 method)"
      ]
     },
     "execution_count": 10,
     "metadata": {},
     "output_type": "execute_result"
    }
   ],
   "source": [
    "square(mat::Matrix{T}) where T = _square!(similar(mat), mat)\n",
    "square!(mat::Matrix{T}) where T = _square!(mat, mat)"
   ]
  },
  {
   "cell_type": "markdown",
   "metadata": {},
   "source": [
    "以上我們可以注意到在 `_square!` 最後回傳了 `res`，如此一來，我們便可以在後續的實作當中直接回傳 `_square!`。介面變得非常簡單而且容易使用。"
   ]
  },
  {
   "cell_type": "markdown",
   "metadata": {},
   "source": [
    "## 位置參數"
   ]
  },
  {
   "cell_type": "markdown",
   "metadata": {},
   "source": [
    "Julia 的多重分派機制是依賴位置參數（positional arguments）的，完全不看關鍵字參數。多重分派是由位置參數的數量及型別來決定要呼叫什麼樣的方法。"
   ]
  },
  {
   "cell_type": "code",
   "execution_count": 11,
   "metadata": {},
   "outputs": [
    {
     "data": {
      "text/plain": [
       "foo (generic function with 2 methods)"
      ]
     },
     "execution_count": 11,
     "metadata": {},
     "output_type": "execute_result"
    }
   ],
   "source": [
    "foo(a) = println(a)\n",
    "foo(a, b) = println((a, b))"
   ]
  },
  {
   "cell_type": "code",
   "execution_count": 12,
   "metadata": {},
   "outputs": [
    {
     "name": "stdout",
     "output_type": "stream",
     "text": [
      "4\n"
     ]
    }
   ],
   "source": [
    "foo(4)"
   ]
  },
  {
   "cell_type": "code",
   "execution_count": 13,
   "metadata": {},
   "outputs": [
    {
     "name": "stdout",
     "output_type": "stream",
     "text": [
      "(4, 5)\n"
     ]
    }
   ],
   "source": [
    "foo(4, 5)"
   ]
  },
  {
   "cell_type": "markdown",
   "metadata": {},
   "source": [
    "位置參數可以有預設值，或是在文件中提到的可選參數（optional arguments）。可選參數就是在位置參數後加上預設值，位置參數沒有填上的部份會由預設值填補。"
   ]
  },
  {
   "cell_type": "code",
   "execution_count": 14,
   "metadata": {},
   "outputs": [
    {
     "data": {
      "text/plain": [
       "foo (generic function with 3 methods)"
      ]
     },
     "execution_count": 14,
     "metadata": {},
     "output_type": "execute_result"
    }
   ],
   "source": [
    "foo(a, b=1, c=2) = println((a, b, c))"
   ]
  },
  {
   "cell_type": "code",
   "execution_count": 15,
   "metadata": {},
   "outputs": [
    {
     "name": "stdout",
     "output_type": "stream",
     "text": [
      "(1, 1, 2)\n"
     ]
    }
   ],
   "source": [
    "foo(1)"
   ]
  },
  {
   "cell_type": "code",
   "execution_count": 16,
   "metadata": {},
   "outputs": [
    {
     "name": "stdout",
     "output_type": "stream",
     "text": [
      "(2, 3, 2)\n"
     ]
    }
   ],
   "source": [
    "foo(2, 3)"
   ]
  },
  {
   "cell_type": "markdown",
   "metadata": {},
   "source": [
    "使用上會發現位置參數的預設值是依序填補的。當只有一個參數時，會預設使用 `b` 及 `c` 的預設值。當有兩個參數時，會預設使用 `c` 的預設值。前面定義的一個或兩個變數的版本不會被呼叫到，後續都優先呼叫三個參數版本的方法。"
   ]
  },
  {
   "cell_type": "markdown",
   "metadata": {},
   "source": [
    "## 關鍵字參數"
   ]
  },
  {
   "cell_type": "markdown",
   "metadata": {},
   "source": [
    "關鍵字參數一定需要提供預設值。關鍵字參數與位置參數之間需要以 `;` 分隔開來。"
   ]
  },
  {
   "cell_type": "code",
   "execution_count": 17,
   "metadata": {},
   "outputs": [
    {
     "data": {
      "text/plain": [
       "bar (generic function with 1 method)"
      ]
     },
     "execution_count": 17,
     "metadata": {},
     "output_type": "execute_result"
    }
   ],
   "source": [
    "bar(a; b=1, c=2) = println((a, b, c))"
   ]
  },
  {
   "cell_type": "markdown",
   "metadata": {},
   "source": [
    "關鍵字參數在呼叫時可以完全省略。"
   ]
  },
  {
   "cell_type": "code",
   "execution_count": 18,
   "metadata": {},
   "outputs": [
    {
     "name": "stdout",
     "output_type": "stream",
     "text": [
      "(5, 1, 2)\n"
     ]
    }
   ],
   "source": [
    "bar(5)"
   ]
  },
  {
   "cell_type": "markdown",
   "metadata": {},
   "source": [
    "關鍵字參數不在乎關鍵字的位置。"
   ]
  },
  {
   "cell_type": "code",
   "execution_count": 19,
   "metadata": {},
   "outputs": [
    {
     "name": "stdout",
     "output_type": "stream",
     "text": [
      "(5, 7, 2)\n"
     ]
    }
   ],
   "source": [
    "bar(5, b=7)"
   ]
  },
  {
   "cell_type": "code",
   "execution_count": 20,
   "metadata": {},
   "outputs": [
    {
     "name": "stdout",
     "output_type": "stream",
     "text": [
      "(5, 1, 2)\n"
     ]
    }
   ],
   "source": [
    "bar(5, c=2)"
   ]
  },
  {
   "cell_type": "markdown",
   "metadata": {},
   "source": [
    "關鍵字參數可以置於位置參數的前或後，甚至穿插其中也可以。"
   ]
  },
  {
   "cell_type": "code",
   "execution_count": 21,
   "metadata": {},
   "outputs": [
    {
     "name": "stdout",
     "output_type": "stream",
     "text": [
      "(5, 7, 2)\n"
     ]
    }
   ],
   "source": [
    "bar(5, c=2, b=7)"
   ]
  },
  {
   "cell_type": "code",
   "execution_count": 22,
   "metadata": {},
   "outputs": [
    {
     "name": "stdout",
     "output_type": "stream",
     "text": [
      "(5, 7, 2)\n"
     ]
    }
   ],
   "source": [
    "bar(c=2, b=7, 5)"
   ]
  },
  {
   "cell_type": "code",
   "execution_count": 23,
   "metadata": {},
   "outputs": [
    {
     "name": "stdout",
     "output_type": "stream",
     "text": [
      "(5, 7, 2)\n"
     ]
    }
   ],
   "source": [
    "bar(b=7, 5, c=2)"
   ]
  },
  {
   "cell_type": "markdown",
   "metadata": {},
   "source": [
    "## 混合使用"
   ]
  },
  {
   "cell_type": "markdown",
   "metadata": {},
   "source": [
    "在一些語言當中，位置參數跟關鍵字參數的觀念是混在一起的，但在 Julia 有嚴格的區分。帶有預設值的位置參數不能以關鍵字參數的方式呼叫。"
   ]
  },
  {
   "cell_type": "code",
   "execution_count": 24,
   "metadata": {},
   "outputs": [
    {
     "data": {
      "text/plain": [
       "baz (generic function with 2 methods)"
      ]
     },
     "execution_count": 24,
     "metadata": {},
     "output_type": "execute_result"
    }
   ],
   "source": [
    "baz(a=1) = println(a)"
   ]
  },
  {
   "cell_type": "code",
   "execution_count": 25,
   "metadata": {},
   "outputs": [
    {
     "ename": "ErrorException",
     "evalue": "function baz does not accept keyword arguments",
     "output_type": "error",
     "traceback": [
      "function baz does not accept keyword arguments",
      "",
      "Stacktrace:",
      " [1] top-level scope at In[25]:1"
     ]
    }
   ],
   "source": [
    "baz(a=5)"
   ]
  },
  {
   "cell_type": "markdown",
   "metadata": {},
   "source": [
    "在 API 的設計上，位置參數傾向用於呼叫一個功能所必須的參數上，而關鍵字參數則相反。關鍵字參數會大量使用在繪圖的細節調整上，像是圖片大小、字體、點的大小等等。"
   ]
  },
  {
   "cell_type": "code",
   "execution_count": null,
   "metadata": {},
   "outputs": [],
   "source": []
  }
 ],
 "metadata": {
  "kernelspec": {
   "display_name": "Julia 1.3.0",
   "language": "julia",
   "name": "julia-1.3"
  },
  "language_info": {
   "file_extension": ".jl",
   "mimetype": "application/julia",
   "name": "julia",
   "version": "1.3.1"
  }
 },
 "nbformat": 4,
 "nbformat_minor": 4
}
