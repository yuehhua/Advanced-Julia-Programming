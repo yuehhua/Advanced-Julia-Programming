{
 "cells": [
  {
   "cell_type": "markdown",
   "metadata": {},
   "source": [
    "# Compiler"
   ]
  },
  {
   "cell_type": "markdown",
   "metadata": {},
   "source": [
    "Julia 編譯器被設計為可以提供編譯過程中間碼，透過中間碼我們可以了解到編譯器最佳化程式碼的過程，以及型別穩定性（type stablility）在編譯過程中所扮演的角色。這邊我們有個範例，是將輸入的數值平方的函式："
   ]
  },
  {
   "cell_type": "code",
   "execution_count": 1,
   "metadata": {},
   "outputs": [
    {
     "data": {
      "text/plain": [
       "square (generic function with 1 method)"
      ]
     },
     "execution_count": 1,
     "metadata": {},
     "output_type": "execute_result"
    }
   ],
   "source": [
    "function square(a)\n",
    "    a^2\n",
    "end"
   ]
  },
  {
   "cell_type": "code",
   "execution_count": 2,
   "metadata": {},
   "outputs": [
    {
     "data": {
      "text/plain": [
       "4"
      ]
     },
     "execution_count": 2,
     "metadata": {},
     "output_type": "execute_result"
    }
   ],
   "source": [
    "square(2)"
   ]
  },
  {
   "cell_type": "markdown",
   "metadata": {},
   "source": [
    "## Parsing"
   ]
  },
  {
   "cell_type": "markdown",
   "metadata": {},
   "source": [
    "在編譯過程的第一步是解析表示式（expression），解析（parsing）的過程是將原始碼解析成電腦能讀懂的結構。一般電腦能夠讀懂的結構會以樹狀結構來表示，稱為抽象語法樹（abstract syntax tree），簡稱 AST。"
   ]
  },
  {
   "cell_type": "code",
   "execution_count": 3,
   "metadata": {},
   "outputs": [
    {
     "data": {
      "text/plain": [
       "\"square(2)\""
      ]
     },
     "execution_count": 3,
     "metadata": {},
     "output_type": "execute_result"
    }
   ],
   "source": [
    "program = \"square(2)\""
   ]
  },
  {
   "cell_type": "markdown",
   "metadata": {},
   "source": [
    "AST 是一種資料結構，是由原始碼（字串）透過解析後所建構的而成的。這種樹狀結構是用來表示語言的表達式本身，與表達式等價。"
   ]
  },
  {
   "cell_type": "code",
   "execution_count": 4,
   "metadata": {},
   "outputs": [
    {
     "data": {
      "text/plain": [
       ":(square(2))"
      ]
     },
     "execution_count": 4,
     "metadata": {},
     "output_type": "execute_result"
    }
   ],
   "source": [
    "expression = Meta.parse(program)"
   ]
  },
  {
   "cell_type": "code",
   "execution_count": 5,
   "metadata": {},
   "outputs": [
    {
     "data": {
      "text/plain": [
       "Expr"
      ]
     },
     "execution_count": 5,
     "metadata": {},
     "output_type": "execute_result"
    }
   ],
   "source": [
    "typeof(expression)"
   ]
  },
  {
   "cell_type": "markdown",
   "metadata": {},
   "source": [
    "在 Julia 中便是以 `Expr` 結構來表示，並可以用 `dump` 來呈現結構。"
   ]
  },
  {
   "cell_type": "code",
   "execution_count": 6,
   "metadata": {},
   "outputs": [
    {
     "name": "stdout",
     "output_type": "stream",
     "text": [
      "Expr\n",
      "  head: Symbol call\n",
      "  args: Array{Any}((2,))\n",
      "    1: Symbol square\n",
      "    2: Int64 2\n"
     ]
    }
   ],
   "source": [
    "dump(expression)"
   ]
  },
  {
   "cell_type": "markdown",
   "metadata": {},
   "source": [
    "`Expr` 當中紀錄了這個表達式的行為是一個函式呼叫（`:call`），資訊會紀錄在 `head` 中。"
   ]
  },
  {
   "cell_type": "code",
   "execution_count": 7,
   "metadata": {},
   "outputs": [
    {
     "data": {
      "text/plain": [
       ":call"
      ]
     },
     "execution_count": 7,
     "metadata": {},
     "output_type": "execute_result"
    }
   ],
   "source": [
    "expression.head"
   ]
  },
  {
   "cell_type": "markdown",
   "metadata": {},
   "source": [
    "函式呼叫需要兩個參數（`args`），第一個參數為呼叫的函式名稱 `:square`，第二個參數為函式的參數 `2`。"
   ]
  },
  {
   "cell_type": "code",
   "execution_count": 8,
   "metadata": {},
   "outputs": [
    {
     "data": {
      "text/plain": [
       "2-element Array{Any,1}:\n",
       "  :square\n",
       " 2       "
      ]
     },
     "execution_count": 8,
     "metadata": {},
     "output_type": "execute_result"
    }
   ],
   "source": [
    "expression.args"
   ]
  },
  {
   "cell_type": "markdown",
   "metadata": {},
   "source": [
    "可以試試看稍微複雜一點的表達式。"
   ]
  },
  {
   "cell_type": "code",
   "execution_count": 9,
   "metadata": {},
   "outputs": [
    {
     "name": "stdout",
     "output_type": "stream",
     "text": [
      "Expr\n",
      "  head: Symbol call\n",
      "  args: Array{Any}((4,))\n",
      "    1: Symbol +\n",
      "    2: Expr\n",
      "      head: Symbol call\n",
      "      args: Array{Any}((3,))\n",
      "        1: Symbol ^\n",
      "        2: Int64 2\n",
      "        3: Int64 2\n",
      "    3: Expr\n",
      "      head: Symbol call\n",
      "      args: Array{Any}((3,))\n",
      "        1: Symbol *\n",
      "        2: Int64 5\n",
      "        3: Int64 3\n",
      "    4: Int64 1\n"
     ]
    }
   ],
   "source": [
    "expr = Meta.parse(\"2^2 + 5*3 + 1\")\n",
    "dump(expr)"
   ]
  },
  {
   "cell_type": "markdown",
   "metadata": {},
   "source": [
    "## Julia IR"
   ]
  },
  {
   "cell_type": "markdown",
   "metadata": {},
   "source": [
    "解析過的 `Expr` 會進一步被轉換成 Julia IR，這是一種中間碼（intermediate representation），它會在 Julia 語言當中被處理。可以透過 `@code_lowered` 來看到轉換過後的結果。由於 Julia 編譯器是一種即時（just-in-time）編譯器，程式碼的編譯只有在被呼叫的時候才會被執行，我們需要明確給予值來執行程式碼，才能看到 Julia IR。"
   ]
  },
  {
   "cell_type": "code",
   "execution_count": 10,
   "metadata": {},
   "outputs": [
    {
     "data": {
      "text/plain": [
       "CodeInfo(\n",
       "\u001b[90m1 ─\u001b[39m %1 = Core.apply_type(Base.Val, 2)\n",
       "\u001b[90m│  \u001b[39m %2 = (%1)()\n",
       "\u001b[90m│  \u001b[39m %3 = Base.literal_pow(Main.:^, a, %2)\n",
       "\u001b[90m└──\u001b[39m      return %3\n",
       ")"
      ]
     },
     "execution_count": 10,
     "metadata": {},
     "output_type": "execute_result"
    }
   ],
   "source": [
    "@code_lowered square(1)"
   ]
  },
  {
   "cell_type": "markdown",
   "metadata": {},
   "source": [
    "接著，Julia 編譯器會去蒐集型別的資訊以及做型別推論（type inference）來填補 Julia IR 中的型別資訊。Typed Julia IR 可以由 `@code_typed` 得到。"
   ]
  },
  {
   "cell_type": "code",
   "execution_count": 11,
   "metadata": {},
   "outputs": [
    {
     "data": {
      "text/plain": [
       "CodeInfo(\n",
       "\u001b[90m1 ─\u001b[39m %1 = Base.mul_int(a, a)\u001b[36m::Int64\u001b[39m\n",
       "\u001b[90m└──\u001b[39m      return %1\n",
       ") => Int64"
      ]
     },
     "execution_count": 11,
     "metadata": {},
     "output_type": "execute_result"
    }
   ],
   "source": [
    "@code_typed square(1)"
   ]
  },
  {
   "cell_type": "markdown",
   "metadata": {},
   "source": [
    "這邊我們可以看到它仍保留有函式中運算的資訊。有型別資訊，有運算的過程及回傳值，中間運算過程所產生的變數會以 `%1` 的方式紀錄下來，在後續會被轉換成暫存器位址。"
   ]
  },
  {
   "cell_type": "code",
   "execution_count": 12,
   "metadata": {},
   "outputs": [
    {
     "name": "stdout",
     "output_type": "stream",
     "text": [
      "Variables\n",
      "  #self#\u001b[36m::Core.Compiler.Const(square, false)\u001b[39m\n",
      "  a\u001b[36m::Int64\u001b[39m\n",
      "\n",
      "Body\u001b[36m::Int64\u001b[39m\n",
      "\u001b[90m1 ─\u001b[39m %1 = Core.apply_type(Base.Val, 2)\u001b[36m::Core.Compiler.Const(Val{2}, false)\u001b[39m\n",
      "\u001b[90m│  \u001b[39m %2 = (%1)()\u001b[36m::Core.Compiler.Const(Val{2}(), false)\u001b[39m\n",
      "\u001b[90m│  \u001b[39m %3 = Base.literal_pow(Main.:^, a, %2)\u001b[36m::Int64\u001b[39m\n",
      "\u001b[90m└──\u001b[39m      return %3\n"
     ]
    }
   ],
   "source": [
    "@code_warntype square(1)"
   ]
  },
  {
   "cell_type": "markdown",
   "metadata": {},
   "source": [
    "`@code_warntype` 則可以在轉換成 LLVM IR 之前警告哪一部份的程式碼的型別資訊是不充足的。"
   ]
  },
  {
   "cell_type": "markdown",
   "metadata": {},
   "source": [
    "## LLVM IR"
   ]
  },
  {
   "cell_type": "markdown",
   "metadata": {},
   "source": [
    "Julia 中間會透過 LLVM 作為中介，並在 LLVM 進行最佳化，最後並產生組合語言。LLVM IR 是 LLVM 的中間碼，我們可以測試兩種不同型別的參數進到函式中，會編譯成兩種不同的 LLVM IR，可以透過 `@code_llvm` 得到。"
   ]
  },
  {
   "cell_type": "code",
   "execution_count": 13,
   "metadata": {},
   "outputs": [
    {
     "name": "stdout",
     "output_type": "stream",
     "text": [
      "\n",
      ";  @ In[1]:2 within `square'\n",
      "define i64 @julia_square_17434(i64) {\n",
      "top:\n",
      "; ┌ @ intfuncs.jl:244 within `literal_pow'\n",
      "; │┌ @ int.jl:54 within `*'\n",
      "    %1 = mul i64 %0, %0\n",
      "; └└\n",
      "  ret i64 %1\n",
      "}\n"
     ]
    }
   ],
   "source": [
    "@code_llvm square(1)"
   ]
  },
  {
   "cell_type": "code",
   "execution_count": 14,
   "metadata": {},
   "outputs": [
    {
     "name": "stdout",
     "output_type": "stream",
     "text": [
      "\n",
      ";  @ In[1]:2 within `square'\n",
      "define double @julia_square_17844(double) {\n",
      "top:\n",
      "; ┌ @ intfuncs.jl:244 within `literal_pow'\n",
      "; │┌ @ float.jl:405 within `*'\n",
      "    %1 = fmul double %0, %0\n",
      "; └└\n",
      "  ret double %1\n",
      "}\n"
     ]
    }
   ],
   "source": [
    "@code_llvm square(1.)"
   ]
  },
  {
   "cell_type": "markdown",
   "metadata": {},
   "source": [
    "雖然數值上是一樣的，但是在底層的 LLVM IR 部份是截然不同的，會執行不同的最佳化。"
   ]
  },
  {
   "cell_type": "markdown",
   "metadata": {},
   "source": [
    "## Assembly"
   ]
  },
  {
   "cell_type": "markdown",
   "metadata": {},
   "source": [
    "最後，經過一番最佳化後，會由機器碼生成（machine code generation）轉換成組合語言（assembly），可以由 `@code_native` 得到。"
   ]
  },
  {
   "cell_type": "code",
   "execution_count": 15,
   "metadata": {},
   "outputs": [
    {
     "name": "stdout",
     "output_type": "stream",
     "text": [
      "\t.text\n",
      "; ┌ @ In[1]:2 within `square'\n",
      "; │┌ @ intfuncs.jl:244 within `literal_pow'\n",
      "; ││┌ @ In[1]:2 within `*'\n",
      "\timulq\t%rdi, %rdi\n",
      "; │└└\n",
      "\tmovq\t%rdi, %rax\n",
      "\tretq\n",
      "\tnopl\t(%rax,%rax)\n",
      "; └\n"
     ]
    }
   ],
   "source": [
    "@code_native square(1)"
   ]
  },
  {
   "cell_type": "code",
   "execution_count": 16,
   "metadata": {},
   "outputs": [
    {
     "name": "stdout",
     "output_type": "stream",
     "text": [
      "\t.text\n",
      "; ┌ @ In[1]:2 within `square'\n",
      "; │┌ @ intfuncs.jl:244 within `literal_pow'\n",
      "; ││┌ @ In[1]:2 within `*'\n",
      "\tvmulsd\t%xmm0, %xmm0, %xmm0\n",
      "; │└└\n",
      "\tretq\n",
      "\tnopw\t%cs:(%rax,%rax)\n",
      "; └\n"
     ]
    }
   ],
   "source": [
    "@code_native square(1.)"
   ]
  },
  {
   "cell_type": "markdown",
   "metadata": {},
   "source": [
    "## Compiler and function"
   ]
  },
  {
   "cell_type": "markdown",
   "metadata": {},
   "source": [
    "到最後編譯器都會將程式碼轉換成一條一條的組合語言，組合語言是由指令所組成，一條指令就相當於一個動作。在程式碼當中，我們也相對應看重函式的行為與互動。函式的參數型別也就扮演相當重要的角色，參數型別提供了編譯過程中型別的重要資訊。有了型別，LLVM IR 可以有充足的型別資訊，編譯器也可以對型別做最佳化，產生相當有效率的機器碼。反之，如果提供的型別資訊不足，取而代之，就需要相當多的程式碼在執行期間檢查這些型別資訊，如此會讓程式的執行變緩慢。"
   ]
  },
  {
   "cell_type": "markdown",
   "metadata": {},
   "source": [
    "如果我們將函式的參數型別限定為特定型別，這樣這個函式只能適用這個特定型別。"
   ]
  },
  {
   "cell_type": "code",
   "execution_count": 17,
   "metadata": {},
   "outputs": [
    {
     "data": {
      "text/plain": [
       "square (generic function with 2 methods)"
      ]
     },
     "execution_count": 17,
     "metadata": {},
     "output_type": "execute_result"
    }
   ],
   "source": [
    "function square(a::Int32)\n",
    "    a^2\n",
    "end"
   ]
  },
  {
   "cell_type": "markdown",
   "metadata": {},
   "source": [
    "雖然它產生的 LLVM IR 是針對特定型別最佳化的，有充足的型別資訊，但是彈性很差。"
   ]
  },
  {
   "cell_type": "code",
   "execution_count": 18,
   "metadata": {},
   "outputs": [
    {
     "name": "stdout",
     "output_type": "stream",
     "text": [
      "\n",
      ";  @ In[17]:2 within `square'\n",
      "define i32 @julia_square_17851(i32) {\n",
      "top:\n",
      "; ┌ @ intfuncs.jl:244 within `literal_pow'\n",
      "; │┌ @ int.jl:54 within `*'\n",
      "    %1 = mul i32 %0, %0\n",
      "; └└\n",
      "  ret i32 %1\n",
      "}\n"
     ]
    }
   ],
   "source": [
    "@code_llvm square(Int32(1))"
   ]
  },
  {
   "cell_type": "markdown",
   "metadata": {},
   "source": [
    "因此，設計函式的時候我們就需要考慮參數型別。一個好的演算法被實作，會被化成一個函式，而函式的參數型別是夠廣義的，所以在 Julia 中設計的都是所謂的 generic function。Generic function 常常考慮的是實作一個夠廣義的演算法，而較少依賴型別，但並非完全不被型別所限制，有效能最佳化的必要，我們還是得取捨，去拆分函式或是針對型別做設計。要避免針對特定型別的實作，我們需要將型別抽象化，使用抽象型別，讓某一類抽象型別下的具體型別都可以適用這個實作。"
   ]
  },
  {
   "cell_type": "code",
   "execution_count": 19,
   "metadata": {},
   "outputs": [
    {
     "data": {
      "text/plain": [
       "square (generic function with 3 methods)"
      ]
     },
     "execution_count": 19,
     "metadata": {},
     "output_type": "execute_result"
    }
   ],
   "source": [
    "function square(a::Number)\n",
    "    a^2\n",
    "end"
   ]
  },
  {
   "cell_type": "markdown",
   "metadata": {},
   "source": [
    "考慮可以取平方的型別來說，`Number` 是最合適的範圍，在這個範圍內的值都是可以取平方的。因此，Julia 編譯器就可以在執行期間針對不同的參數，即時編譯出相對應而且有效率的機器碼了。"
   ]
  },
  {
   "cell_type": "code",
   "execution_count": 20,
   "metadata": {},
   "outputs": [
    {
     "name": "stdout",
     "output_type": "stream",
     "text": [
      "\n",
      ";  @ In[19]:2 within `square'\n",
      "define i64 @julia_square_17852(i64) {\n",
      "top:\n",
      "; ┌ @ intfuncs.jl:244 within `literal_pow'\n",
      "; │┌ @ int.jl:54 within `*'\n",
      "    %1 = mul i64 %0, %0\n",
      "; └└\n",
      "  ret i64 %1\n",
      "}\n"
     ]
    }
   ],
   "source": [
    "@code_llvm square(1)"
   ]
  },
  {
   "cell_type": "code",
   "execution_count": 21,
   "metadata": {},
   "outputs": [
    {
     "name": "stdout",
     "output_type": "stream",
     "text": [
      "\n",
      ";  @ In[19]:2 within `square'\n",
      "define double @julia_square_17853(double) {\n",
      "top:\n",
      "; ┌ @ intfuncs.jl:244 within `literal_pow'\n",
      "; │┌ @ float.jl:405 within `*'\n",
      "    %1 = fmul double %0, %0\n",
      "; └└\n",
      "  ret double %1\n",
      "}\n"
     ]
    }
   ],
   "source": [
    "@code_llvm square(1.)"
   ]
  },
  {
   "cell_type": "code",
   "execution_count": 22,
   "metadata": {},
   "outputs": [
    {
     "name": "stdout",
     "output_type": "stream",
     "text": [
      "\n",
      ";  @ In[19]:2 within `square'\n",
      "define i8 @julia_square_17855(i8) {\n",
      "top:\n",
      "; ┌ @ intfuncs.jl:244 within `literal_pow'\n",
      "; │┌ @ int.jl:54 within `*'\n",
      "    %1 = mul i8 %0, %0\n",
      "; └└\n",
      "  ret i8 %1\n",
      "}\n"
     ]
    }
   ],
   "source": [
    "@code_llvm square(UInt8(1))"
   ]
  },
  {
   "cell_type": "markdown",
   "metadata": {},
   "source": [
    "`methods` 可以進一步查詢目前有宣告的實作版本有哪些。"
   ]
  },
  {
   "cell_type": "code",
   "execution_count": 23,
   "metadata": {},
   "outputs": [
    {
     "data": {
      "text/html": [
       "# 3 methods for generic function <b>square</b>:<ul><li> square(a::<b>Int32</b>) in Main at In[17]:2</li> <li> square(a::<b>Number</b>) in Main at In[19]:2</li> <li> square(a) in Main at In[1]:2</li> </ul>"
      ],
      "text/plain": [
       "# 3 methods for generic function \"square\":\n",
       "[1] square(a::Int32) in Main at In[17]:2\n",
       "[2] square(a::Number) in Main at In[19]:2\n",
       "[3] square(a) in Main at In[1]:2"
      ]
     },
     "execution_count": 23,
     "metadata": {},
     "output_type": "execute_result"
    }
   ],
   "source": [
    "methods(square)"
   ]
  },
  {
   "cell_type": "code",
   "execution_count": null,
   "metadata": {},
   "outputs": [],
   "source": []
  }
 ],
 "metadata": {
  "kernelspec": {
   "display_name": "Julia 1.3.0",
   "language": "julia",
   "name": "julia-1.3"
  },
  "language_info": {
   "file_extension": ".jl",
   "mimetype": "application/julia",
   "name": "julia",
   "version": "1.3.1"
  }
 },
 "nbformat": 4,
 "nbformat_minor": 4
}
